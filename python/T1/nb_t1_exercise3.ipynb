{
 "cells": [
  {
   "cell_type": "markdown",
   "metadata": {
    "collapsed": true,
    "pycharm": {
     "name": "#%% md\n"
    }
   },
   "source": [
    "# T1\n",
    "### Exercise 3\n",
    "\n",
    "In this exercise we take a look at an *in-vivo* FLASH acquisition using two flip angles and a B1 (flip angle \"efficiency\") estimate.\n",
    "How to arrive at the final linear regression, starting from the signal equation given in the last exercise is explained in detail in [**Helms et al. 2008**](https://onlinelibrary.wiley.com/doi/10.1002/mrm.21542)"
   ]
  },
  {
   "cell_type": "code",
   "execution_count": 124,
   "outputs": [],
   "source": [
    "# import packages\n",
    "import numpy as np\n",
    "import nibabel as nib\n",
    "import pathlib as plb\n",
    "import matplotlib.pyplot as plt\n",
    "import matplotlib.cm as cm\n",
    "import matplotlib.colors as mplc\n",
    "import tqdm\n",
    "\n",
    "plt.style.use('ggplot')\n",
    "\n",
    "# set up data path\n",
    "data_path = plb.Path().resolve().parents[1].absolute().joinpath(\"data/\")\n",
    "p_pdw = data_path.joinpath(\"PDw.nii\")\n",
    "p_t1w = data_path.joinpath(\"T1w.nii\")\n",
    "p_b1 = data_path.joinpath(\"B1map.nii\")"
   ],
   "metadata": {
    "collapsed": false,
    "pycharm": {
     "name": "#%%\n"
    }
   }
  },
  {
   "cell_type": "markdown",
   "source": [
    "We know the flip angles used in the acquisition (6° for pd weighting, 21° for T1w -> to see the connection to the contrast weighting refer to the last exercise plots of T1 against the flip angle alpha). The B1 map gives an estimate for how exact the flip angles are attained in the measurement."
   ],
   "metadata": {
    "collapsed": false,
    "pycharm": {
     "name": "#%% md\n"
    }
   }
  },
  {
   "cell_type": "code",
   "execution_count": 103,
   "outputs": [],
   "source": [
    "# set fa\n",
    "alphas = np.array([6, 21])\n",
    "alphas = np.radians(alphas)\n",
    "# set TR\n",
    "TR = 25     # ms\n",
    "\n",
    "# load in data\n",
    "d_b1 = nib.load(p_b1)\n",
    "d_t1w = nib.load(p_t1w)\n",
    "d_pdw = nib.load(p_pdw)\n",
    "# save affine for later\n",
    "aff = d_t1w.affine\n",
    "# caution B1 [%] is scaled"
   ],
   "metadata": {
    "collapsed": false,
    "pycharm": {
     "name": "#%%\n"
    }
   }
  },
  {
   "cell_type": "markdown",
   "source": [
    "We could in principle use numpy and matrix multiplication to calculate the whole volume straigt away. However, from allocation considerations and the scaling of the calculations it makes sense to define it per slice\n",
    "(a %%timeit for the full volume fit gave 27.8 s ± 756 ms per loop (mean ± std. dev. of 7 runs, 1 loop each, execution time)"
   ],
   "metadata": {
    "collapsed": false,
    "pycharm": {
     "name": "#%% md\n"
    }
   }
  },
  {
   "cell_type": "code",
   "execution_count": 104,
   "outputs": [],
   "source": [
    "# define fit function per slice (whole volume might run into allocation trouble)\n",
    "def fit_slice_t1(alpha1_data_slice, alpha2_data_slice, alpha1, alpha2, b1_eff: np.ndarray = None):\n",
    "    angles = [alpha1, alpha2]\n",
    "    data = [alpha1_data_slice, alpha2_data_slice]\n",
    "    if b1_eff is None:\n",
    "        b1_eff = np.ones_like(alpha1_data_slice)\n",
    "    # build design matrix\n",
    "    X = np.ones((2, 2, *alpha1_data_slice.shape))\n",
    "    y = np.ones((2, *alpha1_data_slice.shape))\n",
    "    # assign data\n",
    "    for fa_idx in range(2):\n",
    "        X[fa_idx, 1] = np.divide(\n",
    "            data[fa_idx], np.tan(angles[fa_idx] * b1_eff),\n",
    "            where=np.tan(angles[fa_idx] * b1_eff)>np.finfo(float).eps,\n",
    "            out=np.zeros_like(b1_eff)\n",
    "        )\n",
    "        y[fa_idx] = np.divide(\n",
    "            data[fa_idx], np.sin(angles[fa_idx] * b1_eff),\n",
    "            where=np.sin(angles[fa_idx] * b1_eff)>np.finfo(float).eps,\n",
    "            out=np.zeros_like(b1_eff)\n",
    "        )\n",
    "    # move matrix axes to the end\n",
    "    X = np.moveaxis(X, 0, -1)\n",
    "    X = np.moveaxis(X, 0, -1)\n",
    "    y = np.moveaxis(y, 0, -1)\n",
    "\n",
    "    # find idx with enough snr\n",
    "    idx_to_compute = (alpha1_data_slice > thresh) & (alpha2_data_slice > thresh) & (b1_eff > 0.3)\n",
    "    # init arrays for calculation and results\n",
    "    beta = np.zeros_like(alpha1_data_slice)     # for idx not in idx_compute beta stays 0\n",
    "    # calculate\n",
    "    # beta = (X.T X)^-1 X y\n",
    "    a = np.linalg.solve(X[idx_to_compute], y[idx_to_compute])\n",
    "    beta[idx_to_compute] = a[:, 1]\n",
    "    return beta\n"
   ],
   "metadata": {
    "collapsed": false,
    "pycharm": {
     "name": "#%%\n"
    }
   }
  },
  {
   "cell_type": "code",
   "execution_count": 106,
   "outputs": [
    {
     "name": "stderr",
     "output_type": "stream",
     "text": [
      "processing slices: 100%|██████████| 208/208 [00:07<00:00, 26.93it/s]\n"
     ]
    }
   ],
   "source": [
    "# create array for quantitative values\n",
    "q_t1 = np.zeros(d_t1w.shape)\n",
    "q_t1_corr = np.zeros(d_t1w.shape)\n",
    "# define signal threshold for calculating T1 (based on 800um 3T example data)\n",
    "thresh = 60.0\n",
    "# fit\n",
    "for slice_idx in tqdm.trange(d_pdw.shape[2], desc='processing slices'):\n",
    "    # load in data per slice corresponding to fa (alpha1 -> pdw, alpha2 -> t1w)\n",
    "    slice_d_pdw = np.squeeze(\n",
    "        np.nan_to_num(d_pdw.slicer[:,:,slice_idx:slice_idx+1].get_fdata())\n",
    "    )\n",
    "    slice_d_t1w = np.squeeze(\n",
    "        np.nan_to_num(d_t1w.slicer[:,:,slice_idx:slice_idx+1].get_fdata())\n",
    "    )\n",
    "    # load in b1 data for the corrected fit - cast from %\n",
    "    slice_b1 = np.squeeze(\n",
    "        np.nan_to_num(d_b1.slicer[:,:,slice_idx:slice_idx+1].get_fdata())\n",
    "    ) / 100.0\n",
    "\n",
    "    # fit\n",
    "    q_t1[:,:,slice_idx] = fit_slice_t1(\n",
    "        slice_d_pdw, slice_d_t1w, *alphas\n",
    "    )\n",
    "    q_t1_corr[:,:,slice_idx] = fit_slice_t1(\n",
    "        slice_d_pdw, slice_d_t1w, *alphas,\n",
    "        b1_eff=slice_b1)\n",
    "\n",
    "# transform\n",
    "qt1_log = np.log(q_t1, where=q_t1>np.finfo(float).eps, out=np.zeros_like(q_t1))\n",
    "qt1c_log = np.log(q_t1_corr, where=q_t1_corr>np.finfo(float).eps, out=np.zeros_like(q_t1_corr))\n",
    "q_t1 = np.divide(\n",
    "    1,\n",
    "    np.divide(-qt1_log, TR),\n",
    "    where=np.divide(-qt1_log, TR)>np.finfo(float).eps,\n",
    "    out=np.zeros_like(q_t1)\n",
    ")\n",
    "q_t1_corr = np.divide(\n",
    "    1,\n",
    "    np.divide(-qt1c_log, TR),\n",
    "    where=np.divide(-qt1c_log, TR)>np.finfo(float).eps,\n",
    "    out=np.zeros_like(q_t1)\n",
    ")"
   ],
   "metadata": {
    "collapsed": false,
    "pycharm": {
     "name": "#%%\n"
    }
   }
  },
  {
   "cell_type": "code",
   "execution_count": 107,
   "outputs": [],
   "source": [
    "# save as nifti\n",
    "t1_img = nib.Nifti1Image(q_t1, affine=aff)\n",
    "nib.save(t1_img, data_path.joinpath(\"estimated_qt1.nii\"))\n",
    "\n",
    "t1_img = nib.Nifti1Image(q_t1_corr, affine=aff)\n",
    "nib.save(t1_img, data_path.joinpath(\"estimated_qt1_b1-corrected.nii\"))"
   ],
   "metadata": {
    "collapsed": false,
    "pycharm": {
     "name": "#%%\n"
    }
   }
  },
  {
   "cell_type": "markdown",
   "source": [
    "Plotting - use a webviewer for nifti or MRIcroGL. In case thats not feasible, you can plot all slices here:"
   ],
   "metadata": {
    "collapsed": false,
    "pycharm": {
     "name": "#%% md\n"
    }
   }
  },
  {
   "cell_type": "code",
   "execution_count": 136,
   "outputs": [],
   "source": [
    "# # set axes\n",
    "# dim = 1\n",
    "# # arange for dimension\n",
    "# plot_t1 = np.swapaxes(q_t1, dim, 0)\n",
    "# num_columns = 5\n",
    "# num_rows = int(np.round(plot_t1.shape[0] / num_columns))\n",
    "# max_val = 4000\n",
    "# # set width ratios for colorbar\n",
    "# ws = np.ones(num_columns+1)\n",
    "# ws[:-1] = 10\n",
    "#\n",
    "# fig = plt.figure(figsize=(9,1.2*num_rows))\n",
    "# gs_big = fig.add_gridspec(num_rows, num_columns+1, width_ratios = ws)\n",
    "#\n",
    "# for plot_row in range(num_rows):\n",
    "#     for plot_column in range(num_columns):\n",
    "#         if plot_row*num_columns+plot_column < plot_t1.shape[0]:\n",
    "#             ax = fig.add_subplot(gs_big[plot_row, plot_column])\n",
    "#             ax.imshow(np.flipud(plot_t1[plot_row*num_columns+plot_column].T), interpolation='None', cmap='viridis', clim=(0,max_val))\n",
    "#             ax.grid(False)\n",
    "#             ax.axis(False)\n",
    "# ax_cb = fig.add_subplot(gs_big[:,-1])\n",
    "# cbar =fig.colorbar(cm.ScalarMappable(norm=mplc.Normalize(vmin=0, vmax=max_val), cmap='viridis'), cax=ax_cb, label=f\"T1 [ms]\")\n",
    "# plt.tight_layout()\n",
    "# plt.show()"
   ],
   "metadata": {
    "collapsed": false,
    "pycharm": {
     "name": "#%%\n"
    }
   }
  }
 ],
 "metadata": {
  "kernelspec": {
   "name": "general",
   "language": "python",
   "display_name": "general"
  },
  "language_info": {
   "codemirror_mode": {
    "name": "ipython",
    "version": 2
   },
   "file_extension": ".py",
   "mimetype": "text/x-python",
   "name": "python",
   "nbconvert_exporter": "python",
   "pygments_lexer": "ipython2",
   "version": "2.7.6"
  }
 },
 "nbformat": 4,
 "nbformat_minor": 0
}